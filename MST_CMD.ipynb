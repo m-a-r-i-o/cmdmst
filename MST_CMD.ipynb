{
 "cells": [
  {
   "cell_type": "code",
   "execution_count": 1,
   "id": "9253b8a8",
   "metadata": {},
   "outputs": [],
   "source": [
    "import pandas as pd\n",
    "import numpy as np\n",
    "import matplotlib.pyplot as plt"
   ]
  },
  {
   "cell_type": "code",
   "execution_count": 2,
   "id": "cbb8905d",
   "metadata": {},
   "outputs": [
    {
     "data": {
      "text/html": [
       "<div>\n",
       "<style scoped>\n",
       "    .dataframe tbody tr th:only-of-type {\n",
       "        vertical-align: middle;\n",
       "    }\n",
       "\n",
       "    .dataframe tbody tr th {\n",
       "        vertical-align: top;\n",
       "    }\n",
       "\n",
       "    .dataframe thead th {\n",
       "        text-align: right;\n",
       "    }\n",
       "</style>\n",
       "<table border=\"1\" class=\"dataframe\">\n",
       "  <thead>\n",
       "    <tr style=\"text-align: right;\">\n",
       "      <th></th>\n",
       "      <th>0</th>\n",
       "      <th>1</th>\n",
       "    </tr>\n",
       "  </thead>\n",
       "  <tbody>\n",
       "    <tr>\n",
       "      <th>0</th>\n",
       "      <td>4.71136</td>\n",
       "      <td>0.56505</td>\n",
       "    </tr>\n",
       "    <tr>\n",
       "      <th>1</th>\n",
       "      <td>3.94420</td>\n",
       "      <td>0.51366</td>\n",
       "    </tr>\n",
       "    <tr>\n",
       "      <th>2</th>\n",
       "      <td>1.41247</td>\n",
       "      <td>-0.05395</td>\n",
       "    </tr>\n",
       "    <tr>\n",
       "      <th>3</th>\n",
       "      <td>5.07772</td>\n",
       "      <td>0.61336</td>\n",
       "    </tr>\n",
       "    <tr>\n",
       "      <th>4</th>\n",
       "      <td>5.07172</td>\n",
       "      <td>0.60758</td>\n",
       "    </tr>\n",
       "  </tbody>\n",
       "</table>\n",
       "</div>"
      ],
      "text/plain": [
       "         0        1\n",
       "0  4.71136  0.56505\n",
       "1  3.94420  0.51366\n",
       "2  1.41247 -0.05395\n",
       "3  5.07772  0.61336\n",
       "4  5.07172  0.60758"
      ]
     },
     "execution_count": 2,
     "metadata": {},
     "output_type": "execute_result"
    }
   ],
   "source": [
    "old = pd.read_table('isochrones/cmd_synt.13000.Fe-1.0.dat', skiprows = 4, header = None, sep = '\\s+', usecols=[0,1])\n",
    "old.head()"
   ]
  },
  {
   "cell_type": "code",
   "execution_count": 3,
   "id": "650cbd12",
   "metadata": {},
   "outputs": [
    {
     "data": {
      "text/html": [
       "<div>\n",
       "<style scoped>\n",
       "    .dataframe tbody tr th:only-of-type {\n",
       "        vertical-align: middle;\n",
       "    }\n",
       "\n",
       "    .dataframe tbody tr th {\n",
       "        vertical-align: top;\n",
       "    }\n",
       "\n",
       "    .dataframe thead th {\n",
       "        text-align: right;\n",
       "    }\n",
       "</style>\n",
       "<table border=\"1\" class=\"dataframe\">\n",
       "  <thead>\n",
       "    <tr style=\"text-align: right;\">\n",
       "      <th></th>\n",
       "      <th>0</th>\n",
       "      <th>1</th>\n",
       "    </tr>\n",
       "  </thead>\n",
       "  <tbody>\n",
       "    <tr>\n",
       "      <th>0</th>\n",
       "      <td>4.33105</td>\n",
       "      <td>0.44937</td>\n",
       "    </tr>\n",
       "    <tr>\n",
       "      <th>1</th>\n",
       "      <td>3.31389</td>\n",
       "      <td>0.26715</td>\n",
       "    </tr>\n",
       "    <tr>\n",
       "      <th>2</th>\n",
       "      <td>2.16792</td>\n",
       "      <td>-0.12057</td>\n",
       "    </tr>\n",
       "    <tr>\n",
       "      <th>3</th>\n",
       "      <td>4.89255</td>\n",
       "      <td>0.53584</td>\n",
       "    </tr>\n",
       "    <tr>\n",
       "      <th>4</th>\n",
       "      <td>4.90654</td>\n",
       "      <td>0.53528</td>\n",
       "    </tr>\n",
       "  </tbody>\n",
       "</table>\n",
       "</div>"
      ],
      "text/plain": [
       "         0        1\n",
       "0  4.33105  0.44937\n",
       "1  3.31389  0.26715\n",
       "2  2.16792 -0.12057\n",
       "3  4.89255  0.53584\n",
       "4  4.90654  0.53528"
      ]
     },
     "execution_count": 3,
     "metadata": {},
     "output_type": "execute_result"
    }
   ],
   "source": [
    "young = pd.read_table('isochrones/cmd_synt.3000.Fe-2.3.dat', skiprows = 4, header = None, sep = '\\s+', usecols=[0,1])\n",
    "young.head()"
   ]
  },
  {
   "cell_type": "code",
   "execution_count": 4,
   "id": "2212e83c",
   "metadata": {},
   "outputs": [
    {
     "data": {
      "image/png": "[encoded data removed]",
      "text/plain": [
       "<Figure size 432x288 with 1 Axes>"
      ]
     },
     "metadata": {
      "needs_background": "light"
     },
     "output_type": "display_data"
    }
   ],
   "source": [
    "def plotCMD(cmd):\n",
    "    color = cmd.iloc[:,1]\n",
    "    magnitude = cmd.iloc[:,0]\n",
    "    plt.scatter(color, magnitude, s = 0.5535, color = \"#517286\")\n",
    "    plt.ylim([magnitude.max()+0.2, magnitude.min()-0.2])\n",
    "    plt.xlabel(\"B-V\")\n",
    "    plt.ylabel(\"V\")\n",
    "    \n",
    "plotCMD(old)\n",
    "plotCMD(young)\n",
    "plt.show()"
   ]
  },
  {
   "cell_type": "code",
   "execution_count": 44,
   "id": "b7d83619",
   "metadata": {},
   "outputs": [],
   "source": [
    "def mix_CMDs(files, n_to_sample):\n",
    "    cmd = None\n",
    "    for f, n in zip(files, n_to_sample):\n",
    "        if cmd is not None:\n",
    "            newcmd = pd.read_table(f, skiprows = 4, header = None, sep = '\\s+', usecols=[0,1])\n",
    "            newcmd = newcmd.iloc[np.random.choice(range(newcmd.shape[0]), n),:]\n",
    "            cmd = pd.concat([cmd, newcmd])\n",
    "        if cmd is None:\n",
    "            newcmd = pd.read_table(f, skiprows = 4, header = None, sep = '\\s+', usecols=[0,1])\n",
    "            cmd = newcmd.iloc[np.random.choice(range(newcmd.shape[0]), n),:]\n",
    "    return cmd"
   ]
  },
  {
   "cell_type": "code",
   "execution_count": 48,
   "id": "4bff3730",
   "metadata": {},
   "outputs": [
    {
     "data": {
      "image/png": "[encoded data removed]",
      "text/plain": [
       "<Figure size 432x288 with 1 Axes>"
      ]
     },
     "metadata": {
      "needs_background": "light"
     },
     "output_type": "display_data"
    },
    {
     "name": "stdout",
     "output_type": "stream",
     "text": [
      "0.5701314059886825\n",
      "0.292958929224222\n"
     ]
    },
    {
     "data": {
      "image/png": "[encoded data removed]",
      "text/plain": [
       "<Figure size 432x288 with 1 Axes>"
      ]
     },
     "metadata": {
      "needs_background": "light"
     },
     "output_type": "display_data"
    }
   ],
   "source": [
    "import mistree as mist #use pavia00\n",
    "import warnings\n",
    "warnings.filterwarnings('ignore') #should understand instead\n",
    "\n",
    "def sta(u):\n",
    "    u = (u - u.mean())/u.std()\n",
    "    return u\n",
    "\n",
    "somemix = mix_CMDs(['isochrones/cmd_synt.13000.Fe-1.0.dat', 'isochrones/cmd_synt.3000.Fe-2.3.dat'], [80, 120])\n",
    "plotCMD(somemix)\n",
    "plt.show()\n",
    "\n",
    "x = sta(somemix.iloc[:,0].to_numpy())\n",
    "y = sta(somemix.iloc[:,1].to_numpy())\n",
    "mst = mist.GetMST(x=x, y=y)\n",
    "d, l, b, s = mst.get_stats()\n",
    "print(np.median(l)/np.quantile(l, 0.9)) #ratio of median edge length to 90th percentile edge length\n",
    "\n",
    "someothermix = mix_CMDs(['isochrones/cmd_synt.13000.Fe-1.0.dat', 'isochrones/cmd_synt.11000.Fe-1.0.dat', 'isochrones/cmd_synt.7000.Fe-1.0.dat', 'isochrones/cmd_synt.3000.Fe-2.3.dat'], [40,60,55,45])\n",
    "x = sta(someothermix.iloc[:,0].to_numpy())\n",
    "y = sta(someothermix.iloc[:,1].to_numpy())\n",
    "mst = mist.GetMST(x=x, y=y)\n",
    "d, l, b, s = mst.get_stats()\n",
    "print(np.median(l)/np.quantile(l, 0.9)) #ratio of median edge length to 90th percentile edge length\n",
    "\n",
    "plotCMD(someothermix)\n",
    "plt.show()\n"
   ]
  },
  {
   "cell_type": "code",
   "execution_count": 50,
   "id": "45df4bab",
   "metadata": {},
   "outputs": [
    {
     "data": {
      "image/png": "[encoded data removed]",
      "text/plain": [
       "<Figure size 432x288 with 1 Axes>"
      ]
     },
     "metadata": {
      "needs_background": "light"
     },
     "output_type": "display_data"
    },
    {
     "data": {
      "image/png": "[encoded data removed]",
      "text/plain": [
       "<Figure size 432x288 with 1 Axes>"
      ]
     },
     "metadata": {
      "needs_background": "light"
     },
     "output_type": "display_data"
    },
    {
     "data": {
      "image/png": "[encoded data removed]",
      "text/plain": [
       "<Figure size 432x288 with 1 Axes>"
      ]
     },
     "metadata": {
      "needs_background": "light"
     },
     "output_type": "display_data"
    }
   ],
   "source": [
    "def mix_CMDs_proportional(CMD0, CMD1, alpha):\n",
    "    mixed_CMD = mix_CMDs([CMD0, CMD1], [int(np.round(50*alpha)), int(np.round((1-alpha)*50))])\n",
    "    return mixed_CMD\n",
    "\n",
    "plotCMD(mix_CMDs_proportional('isochrones/cmd_synt.13000.Fe-1.0.dat', 'isochrones/cmd_synt.3000.Fe-1.0.dat', 0.1))\n",
    "plt.show()\n",
    "plotCMD(mix_CMDs_proportional('isochrones/cmd_synt.13000.Fe-1.0.dat', 'isochrones/cmd_synt.3000.Fe-1.0.dat', 0.5))\n",
    "plt.show()\n",
    "plotCMD(mix_CMDs_proportional('isochrones/cmd_synt.13000.Fe-1.0.dat', 'isochrones/cmd_synt.3000.Fe-1.0.dat', 0.9))\n",
    "plt.show()\n"
   ]
  },
  {
   "cell_type": "code",
   "execution_count": 52,
   "id": "caf25112",
   "metadata": {
    "scrolled": false
   },
   "outputs": [
    {
     "name": "stdout",
     "output_type": "stream",
     "text": [
      "[[0.06143159 0.08071327 0.09687694 0.1127309  0.15604716 0.17755382\n",
      "  0.19878842 0.22479923 0.36917801]\n",
      " [0.04115401 0.06925395 0.08060182 0.10188561 0.12665199 0.14879901\n",
      "  0.17804313 0.21290927 0.32974679]\n",
      " [0.05577712 0.06901155 0.09413586 0.13556378 0.17002541 0.18997914\n",
      "  0.21476983 0.26196352 0.3968463 ]\n",
      " [0.0357416  0.06842829 0.09954016 0.11174772 0.13266479 0.18164776\n",
      "  0.23349824 0.2843878  0.49756218]\n",
      " [0.0714313  0.08095678 0.097238   0.11083723 0.13008907 0.1485968\n",
      "  0.22182471 0.25270193 0.57027484]\n",
      " [0.03653041 0.05178604 0.07634602 0.09767748 0.11488423 0.16912748\n",
      "  0.21227509 0.23090116 0.29796823]\n",
      " [0.06760734 0.10051676 0.13070731 0.15357846 0.18142466 0.21592831\n",
      "  0.28209933 0.36423294 0.52368917]\n",
      " [0.08475414 0.10886824 0.14057599 0.16415703 0.1858196  0.21472227\n",
      "  0.25415427 0.29279403 0.43207993]\n",
      " [0.04714918 0.07454917 0.09500655 0.11702716 0.15149197 0.19370545\n",
      "  0.22980381 0.27117585 0.33440272]\n",
      " [0.05482919 0.08067417 0.09857393 0.13935219 0.16664721 0.18883125\n",
      "  0.22594142 0.28081025 0.42530598]\n",
      " [0.08599368 0.12056849 0.14653312 0.16175156 0.18051345 0.21676459\n",
      "  0.24562759 0.29494688 0.36002699]]\n"
     ]
    },
    {
     "data": {
      "image/png": "[encoded data removed]",
      "text/plain": [
       "<Figure size 432x288 with 2 Axes>"
      ]
     },
     "metadata": {
      "needs_background": "light"
     },
     "output_type": "display_data"
    }
   ],
   "source": [
    "def MST_of_a_mix(CMD0, CMD1, alpha):\n",
    "    thismix = mix_CMDs_proportional(CMD0, CMD1, alpha)\n",
    "    mst = mist.GetMST(x=sta(thismix.iloc[:,0].to_numpy()), y=sta(thismix.iloc[:,1].to_numpy()))\n",
    "    d, l, b, s = mst.get_stats()\n",
    "    lq = np.quantile(l, (1+np.arange(9))/10)\n",
    "    return(lq)\n",
    "\n",
    "MSTs = []\n",
    "for alpha in np.arange(11)/10:\n",
    "    MSTs.append(MST_of_a_mix('isochrones/cmd_synt.13000.Fe-2.3.dat', 'isochrones/cmd_synt.3000.Fe-1.0.dat', alpha))\n",
    "\n",
    "    \n",
    "print(np.array(MSTs))\n",
    "\n",
    "plt.imshow(np.log(np.array(MSTs)))\n",
    "plt.xlabel(\"Edge length quantile\")\n",
    "plt.ylabel(\"Fraction of stars from pop A\")\n",
    "plt.colorbar()\n",
    "plt.show()"
   ]
  },
  {
   "cell_type": "code",
   "execution_count": null,
   "id": "732ec1e7",
   "metadata": {},
   "outputs": [],
   "source": []
  }
 ],
 "metadata": {
  "kernelspec": {
   "display_name": "Python 3 (ipykernel)",
   "language": "python",
   "name": "python3"
  },
  "language_info": {
   "codemirror_mode": {
    "name": "ipython",
    "version": 3
   },
   "file_extension": ".py",
   "mimetype": "text/x-python",
   "name": "python",
   "nbconvert_exporter": "python",
   "pygments_lexer": "ipython3",
   "version": "3.9.11"
  }
 },
 "nbformat": 4,
 "nbformat_minor": 5
}
