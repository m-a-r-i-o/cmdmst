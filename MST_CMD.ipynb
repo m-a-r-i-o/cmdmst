{
 "cells": [
  {
   "cell_type": "code",
   "execution_count": 2,
   "id": "9253b8a8",
   "metadata": {},
   "outputs": [],
   "source": [
    "import pandas as pd\n",
    "import numpy as np\n",
    "import matplotlib.pyplot as plt"
   ]
  },
  {
   "cell_type": "code",
   "execution_count": 3,
   "id": "cbb8905d",
   "metadata": {},
   "outputs": [
    {
     "data": {
      "text/html": [
       "<div>\n",
       "<style scoped>\n",
       "    .dataframe tbody tr th:only-of-type {\n",
       "        vertical-align: middle;\n",
       "    }\n",
       "\n",
       "    .dataframe tbody tr th {\n",
       "        vertical-align: top;\n",
       "    }\n",
       "\n",
       "    .dataframe thead th {\n",
       "        text-align: right;\n",
       "    }\n",
       "</style>\n",
       "<table border=\"1\" class=\"dataframe\">\n",
       "  <thead>\n",
       "    <tr style=\"text-align: right;\">\n",
       "      <th></th>\n",
       "      <th>0</th>\n",
       "      <th>1</th>\n",
       "    </tr>\n",
       "  </thead>\n",
       "  <tbody>\n",
       "    <tr>\n",
       "      <th>0</th>\n",
       "      <td>4.71136</td>\n",
       "      <td>0.56505</td>\n",
       "    </tr>\n",
       "    <tr>\n",
       "      <th>1</th>\n",
       "      <td>3.94420</td>\n",
       "      <td>0.51366</td>\n",
       "    </tr>\n",
       "    <tr>\n",
       "      <th>2</th>\n",
       "      <td>1.41247</td>\n",
       "      <td>-0.05395</td>\n",
       "    </tr>\n",
       "    <tr>\n",
       "      <th>3</th>\n",
       "      <td>5.07772</td>\n",
       "      <td>0.61336</td>\n",
       "    </tr>\n",
       "    <tr>\n",
       "      <th>4</th>\n",
       "      <td>5.07172</td>\n",
       "      <td>0.60758</td>\n",
       "    </tr>\n",
       "  </tbody>\n",
       "</table>\n",
       "</div>"
      ],
      "text/plain": [
       "         0        1\n",
       "0  4.71136  0.56505\n",
       "1  3.94420  0.51366\n",
       "2  1.41247 -0.05395\n",
       "3  5.07772  0.61336\n",
       "4  5.07172  0.60758"
      ]
     },
     "execution_count": 3,
     "metadata": {},
     "output_type": "execute_result"
    }
   ],
   "source": [
    "old = pd.read_table('isochrones/cmd_synt.13000.Fe-1.0.dat', skiprows = 4, header = None, sep = '\\s+', usecols=[0,1])\n",
    "old.head()"
   ]
  },
  {
   "cell_type": "code",
   "execution_count": 4,
   "id": "650cbd12",
   "metadata": {},
   "outputs": [
    {
     "data": {
      "text/html": [
       "<div>\n",
       "<style scoped>\n",
       "    .dataframe tbody tr th:only-of-type {\n",
       "        vertical-align: middle;\n",
       "    }\n",
       "\n",
       "    .dataframe tbody tr th {\n",
       "        vertical-align: top;\n",
       "    }\n",
       "\n",
       "    .dataframe thead th {\n",
       "        text-align: right;\n",
       "    }\n",
       "</style>\n",
       "<table border=\"1\" class=\"dataframe\">\n",
       "  <thead>\n",
       "    <tr style=\"text-align: right;\">\n",
       "      <th></th>\n",
       "      <th>0</th>\n",
       "      <th>1</th>\n",
       "    </tr>\n",
       "  </thead>\n",
       "  <tbody>\n",
       "    <tr>\n",
       "      <th>0</th>\n",
       "      <td>4.33105</td>\n",
       "      <td>0.44937</td>\n",
       "    </tr>\n",
       "    <tr>\n",
       "      <th>1</th>\n",
       "      <td>3.31389</td>\n",
       "      <td>0.26715</td>\n",
       "    </tr>\n",
       "    <tr>\n",
       "      <th>2</th>\n",
       "      <td>2.16792</td>\n",
       "      <td>-0.12057</td>\n",
       "    </tr>\n",
       "    <tr>\n",
       "      <th>3</th>\n",
       "      <td>4.89255</td>\n",
       "      <td>0.53584</td>\n",
       "    </tr>\n",
       "    <tr>\n",
       "      <th>4</th>\n",
       "      <td>4.90654</td>\n",
       "      <td>0.53528</td>\n",
       "    </tr>\n",
       "  </tbody>\n",
       "</table>\n",
       "</div>"
      ],
      "text/plain": [
       "         0        1\n",
       "0  4.33105  0.44937\n",
       "1  3.31389  0.26715\n",
       "2  2.16792 -0.12057\n",
       "3  4.89255  0.53584\n",
       "4  4.90654  0.53528"
      ]
     },
     "execution_count": 4,
     "metadata": {},
     "output_type": "execute_result"
    }
   ],
   "source": [
    "young = pd.read_table('isochrones/cmd_synt.3000.Fe-2.3.dat', skiprows = 4, header = None, sep = '\\s+', usecols=[0,1])\n",
    "young.head()"
   ]
  },
  {
   "cell_type": "code",
   "execution_count": 6,
   "id": "2212e83c",
   "metadata": {},
   "outputs": [
    {
     "data": {
      "image/png": "[encoded data removed]",
      "text/plain": [
       "<Figure size 432x288 with 1 Axes>"
      ]
     },
     "metadata": {
      "needs_background": "light"
     },
     "output_type": "display_data"
    }
   ],
   "source": [
    "def plotCMD(cmd):\n",
    "    color = cmd.iloc[:,1]\n",
    "    magnitude = cmd.iloc[:,0]\n",
    "    plt.scatter(color, magnitude, s = 0.5535, color = \"#517286\")\n",
    "    plt.ylim([magnitude.max()+0.2, magnitude.min()-0.2])\n",
    "    plt.xlabel(\"B-V\")\n",
    "    plt.ylabel(\"V\")\n",
    "    \n",
    "plotCMD(old)\n",
    "plotCMD(young)\n",
    "plt.show()"
   ]
  },
  {
   "cell_type": "code",
   "execution_count": 7,
   "id": "b7d83619",
   "metadata": {},
   "outputs": [
    {
     "data": {
      "image/png": "[encoded data removed]",
      "text/plain": [
       "<Figure size 432x288 with 1 Axes>"
      ]
     },
     "metadata": {
      "needs_background": "light"
     },
     "output_type": "display_data"
    }
   ],
   "source": [
    "def mix_CMDs(files, n_to_sample):\n",
    "    cmd = None\n",
    "    for f, n in zip(files, n_to_sample):\n",
    "        if cmd is not None:\n",
    "            newcmd = pd.read_table(f, skiprows = 4, header = None, sep = '\\s+', usecols=[0,1])\n",
    "            newcmd = newcmd.iloc[np.random.choice(range(newcmd.shape[0]), n),:]\n",
    "            cmd = pd.concat([cmd, newcmd])\n",
    "        if cmd is None:\n",
    "            newcmd = pd.read_table(f, skiprows = 4, header = None, sep = '\\s+', usecols=[0,1])\n",
    "            cmd = newcmd.iloc[np.random.choice(range(newcmd.shape[0]), n),:]\n",
    "    return cmd\n",
    "\n",
    "somemix = mix_CMDs(['isochrones/cmd_synt.13000.Fe-1.0.dat', 'isochrones/cmd_synt.3000.Fe-2.3.dat'], [80, 120])\n",
    "plotCMD(somemix)"
   ]
  },
  {
   "cell_type": "code",
   "execution_count": 32,
   "id": "4bff3730",
   "metadata": {},
   "outputs": [
    {
     "name": "stdout",
     "output_type": "stream",
     "text": [
      "0.366566999620614\n",
      "0.390415491351655\n"
     ]
    },
    {
     "name": "stderr",
     "output_type": "stream",
     "text": [
      "/opt/anaconda3/envs/pavia00/lib/python3.9/site-packages/mistree/mst/branches.py:86: VisibleDeprecationWarning: Creating an ndarray from ragged nested sequences (which is a list-or-tuple of lists-or-tuples-or ndarrays with different lengths or shapes) is deprecated. If you meant to do this, you must specify 'dtype=object' when creating the ndarray.\n",
      "  branch_index.append(np.ndarray.tolist(np.ndarray.flatten(np.array(_twig))))\n",
      "/opt/anaconda3/envs/pavia00/lib/python3.9/site-packages/mistree/mst/branches.py:139: VisibleDeprecationWarning: Creating an ndarray from ragged nested sequences (which is a list-or-tuple of lists-or-tuples-or ndarrays with different lengths or shapes) is deprecated. If you meant to do this, you must specify 'dtype=object' when creating the ndarray.\n",
      "  branch_index = [np.ndarray.tolist(np.hstack(np.array(branch_index[i]))) for i in range(0, len(branch_index))]\n",
      "/opt/anaconda3/envs/pavia00/lib/python3.9/site-packages/mistree/mst/branches.py:86: VisibleDeprecationWarning: Creating an ndarray from ragged nested sequences (which is a list-or-tuple of lists-or-tuples-or ndarrays with different lengths or shapes) is deprecated. If you meant to do this, you must specify 'dtype=object' when creating the ndarray.\n",
      "  branch_index.append(np.ndarray.tolist(np.ndarray.flatten(np.array(_twig))))\n",
      "/opt/anaconda3/envs/pavia00/lib/python3.9/site-packages/mistree/mst/branches.py:139: VisibleDeprecationWarning: Creating an ndarray from ragged nested sequences (which is a list-or-tuple of lists-or-tuples-or ndarrays with different lengths or shapes) is deprecated. If you meant to do this, you must specify 'dtype=object' when creating the ndarray.\n",
      "  branch_index = [np.ndarray.tolist(np.hstack(np.array(branch_index[i]))) for i in range(0, len(branch_index))]\n"
     ]
    },
    {
     "data": {
      "image/png": "[encoded data removed]",
      "text/plain": [
       "<Figure size 432x288 with 1 Axes>"
      ]
     },
     "metadata": {
      "needs_background": "light"
     },
     "output_type": "display_data"
    }
   ],
   "source": [
    "import mistree as mist #use pavia00\n",
    "someothermix = mix_CMDs(['isochrones/cmd_synt.13000.Fe-1.0.dat', 'isochrones/cmd_synt.11000.Fe-1.0.dat', 'isochrones/cmd_synt.7000.Fe-1.0.dat', 'isochrones/cmd_synt.3000.Fe-2.3.dat'], [80,120,110,90])\n",
    "mst = mist.GetMST(x=somemix.iloc[:,0].to_numpy(), y=somemix.iloc[:,1].to_numpy())\n",
    "d, l, b, s = mst.get_stats()\n",
    "print(np.median(l)/np.quantile(l,0.9)) #ratio of median edge length to 90th percentile edge length\n",
    "mst = mist.GetMST(x=someothermix.iloc[:,0].to_numpy(), y=someothermix.iloc[:,1].to_numpy())\n",
    "d, l, b, s = mst.get_stats()\n",
    "plotCMD(someothermix)\n",
    "print(np.median(l)/np.quantile(l,0.9))"
   ]
  },
  {
   "cell_type": "code",
   "execution_count": null,
   "id": "45df4bab",
   "metadata": {},
   "outputs": [],
   "source": []
  }
 ],
 "metadata": {
  "kernelspec": {
   "display_name": "Python 3 (ipykernel)",
   "language": "python",
   "name": "python3"
  },
  "language_info": {
   "codemirror_mode": {
    "name": "ipython",
    "version": 3
   },
   "file_extension": ".py",
   "mimetype": "text/x-python",
   "name": "python",
   "nbconvert_exporter": "python",
   "pygments_lexer": "ipython3",
   "version": "3.9.11"
  }
 },
 "nbformat": 4,
 "nbformat_minor": 5
}
