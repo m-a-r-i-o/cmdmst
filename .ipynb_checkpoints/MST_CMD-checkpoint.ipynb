{
 "cells": [
  {
   "cell_type": "code",
   "execution_count": 1,
   "id": "9253b8a8",
   "metadata": {},
   "outputs": [],
   "source": [
    "import pandas as pd\n",
    "import numpy as np\n",
    "import matplotlib.pyplot as plt"
   ]
  },
  {
   "cell_type": "code",
   "execution_count": 2,
   "id": "cbb8905d",
   "metadata": {},
   "outputs": [
    {
     "data": {
      "text/html": [
       "<div>\n",
       "<style scoped>\n",
       "    .dataframe tbody tr th:only-of-type {\n",
       "        vertical-align: middle;\n",
       "    }\n",
       "\n",
       "    .dataframe tbody tr th {\n",
       "        vertical-align: top;\n",
       "    }\n",
       "\n",
       "    .dataframe thead th {\n",
       "        text-align: right;\n",
       "    }\n",
       "</style>\n",
       "<table border=\"1\" class=\"dataframe\">\n",
       "  <thead>\n",
       "    <tr style=\"text-align: right;\">\n",
       "      <th></th>\n",
       "      <th>0</th>\n",
       "      <th>1</th>\n",
       "    </tr>\n",
       "  </thead>\n",
       "  <tbody>\n",
       "    <tr>\n",
       "      <th>0</th>\n",
       "      <td>4.71136</td>\n",
       "      <td>0.56505</td>\n",
       "    </tr>\n",
       "    <tr>\n",
       "      <th>1</th>\n",
       "      <td>3.94420</td>\n",
       "      <td>0.51366</td>\n",
       "    </tr>\n",
       "    <tr>\n",
       "      <th>2</th>\n",
       "      <td>1.41247</td>\n",
       "      <td>-0.05395</td>\n",
       "    </tr>\n",
       "    <tr>\n",
       "      <th>3</th>\n",
       "      <td>5.07772</td>\n",
       "      <td>0.61336</td>\n",
       "    </tr>\n",
       "    <tr>\n",
       "      <th>4</th>\n",
       "      <td>5.07172</td>\n",
       "      <td>0.60758</td>\n",
       "    </tr>\n",
       "  </tbody>\n",
       "</table>\n",
       "</div>"
      ],
      "text/plain": [
       "         0        1\n",
       "0  4.71136  0.56505\n",
       "1  3.94420  0.51366\n",
       "2  1.41247 -0.05395\n",
       "3  5.07772  0.61336\n",
       "4  5.07172  0.60758"
      ]
     },
     "execution_count": 2,
     "metadata": {},
     "output_type": "execute_result"
    }
   ],
   "source": [
    "old = pd.read_table('isochrones/cmd_synt.13000.Fe-1.0.dat', skiprows = 4, header = None, sep = '\\s+', usecols=[0,1])\n",
    "old.head()"
   ]
  },
  {
   "cell_type": "code",
   "execution_count": 3,
   "id": "650cbd12",
   "metadata": {},
   "outputs": [
    {
     "data": {
      "text/html": [
       "<div>\n",
       "<style scoped>\n",
       "    .dataframe tbody tr th:only-of-type {\n",
       "        vertical-align: middle;\n",
       "    }\n",
       "\n",
       "    .dataframe tbody tr th {\n",
       "        vertical-align: top;\n",
       "    }\n",
       "\n",
       "    .dataframe thead th {\n",
       "        text-align: right;\n",
       "    }\n",
       "</style>\n",
       "<table border=\"1\" class=\"dataframe\">\n",
       "  <thead>\n",
       "    <tr style=\"text-align: right;\">\n",
       "      <th></th>\n",
       "      <th>0</th>\n",
       "      <th>1</th>\n",
       "    </tr>\n",
       "  </thead>\n",
       "  <tbody>\n",
       "    <tr>\n",
       "      <th>0</th>\n",
       "      <td>4.33105</td>\n",
       "      <td>0.44937</td>\n",
       "    </tr>\n",
       "    <tr>\n",
       "      <th>1</th>\n",
       "      <td>3.31389</td>\n",
       "      <td>0.26715</td>\n",
       "    </tr>\n",
       "    <tr>\n",
       "      <th>2</th>\n",
       "      <td>2.16792</td>\n",
       "      <td>-0.12057</td>\n",
       "    </tr>\n",
       "    <tr>\n",
       "      <th>3</th>\n",
       "      <td>4.89255</td>\n",
       "      <td>0.53584</td>\n",
       "    </tr>\n",
       "    <tr>\n",
       "      <th>4</th>\n",
       "      <td>4.90654</td>\n",
       "      <td>0.53528</td>\n",
       "    </tr>\n",
       "  </tbody>\n",
       "</table>\n",
       "</div>"
      ],
      "text/plain": [
       "         0        1\n",
       "0  4.33105  0.44937\n",
       "1  3.31389  0.26715\n",
       "2  2.16792 -0.12057\n",
       "3  4.89255  0.53584\n",
       "4  4.90654  0.53528"
      ]
     },
     "execution_count": 3,
     "metadata": {},
     "output_type": "execute_result"
    }
   ],
   "source": [
    "young = pd.read_table('isochrones/cmd_synt.3000.Fe-2.3.dat', skiprows = 4, header = None, sep = '\\s+', usecols=[0,1])\n",
    "young.head()"
   ]
  },
  {
   "cell_type": "code",
   "execution_count": 4,
   "id": "2212e83c",
   "metadata": {},
   "outputs": [
    {
     "data": {
      "image/png": "[encoded data removed]",
      "text/plain": [
       "<Figure size 432x288 with 1 Axes>"
      ]
     },
     "metadata": {
      "needs_background": "light"
     },
     "output_type": "display_data"
    }
   ],
   "source": [
    "def plotCMD(cmd):\n",
    "    color = cmd.iloc[:,1]\n",
    "    magnitude = cmd.iloc[:,0]\n",
    "    plt.scatter(color, magnitude, s = 0.5535, color = \"#517286\")\n",
    "    plt.ylim([magnitude.max()+0.2, magnitude.min()-0.2])\n",
    "    plt.xlabel(\"B-V\")\n",
    "    plt.ylabel(\"V\")\n",
    "    \n",
    "plotCMD(old)\n",
    "plotCMD(young)\n",
    "plt.show()"
   ]
  },
  {
   "cell_type": "code",
   "execution_count": 6,
   "id": "b7d83619",
   "metadata": {},
   "outputs": [
    {
     "data": {
      "image/png": "[encoded data removed]",
      "text/plain": [
       "<Figure size 432x288 with 1 Axes>"
      ]
     },
     "metadata": {
      "needs_background": "light"
     },
     "output_type": "display_data"
    }
   ],
   "source": [
    "def mix_CMDs(files, n_to_sample):\n",
    "    cmd = None\n",
    "    for f, n in zip(files, n_to_sample):\n",
    "        if cmd is not None:\n",
    "            newcmd = pd.read_table(f, skiprows = 4, header = None, sep = '\\s+', usecols=[0,1])\n",
    "            newcmd = newcmd.iloc[np.random.choice(range(newcmd.shape[0]), n),:]\n",
    "            cmd = pd.concat([cmd, newcmd])\n",
    "        if cmd is None:\n",
    "            newcmd = pd.read_table(f, skiprows = 4, header = None, sep = '\\s+', usecols=[0,1])\n",
    "            cmd = newcmd.iloc[np.random.choice(range(newcmd.shape[0]), n),:]\n",
    "    return cmd\n",
    "\n",
    "somemix = mix_CMDs(['isochrones/cmd_synt.13000.Fe-1.0.dat', 'isochrones/cmd_synt.3000.Fe-2.3.dat'], [80, 120])\n",
    "plotCMD(somemix)"
   ]
  },
  {
   "cell_type": "code",
   "execution_count": 43,
   "id": "4bff3730",
   "metadata": {},
   "outputs": [
    {
     "name": "stdout",
     "output_type": "stream",
     "text": [
      "0.07624388125024423\n",
      "0.05655978191229931\n"
     ]
    },
    {
     "data": {
      "image/png": "[encoded data removed]",
      "text/plain": [
       "<Figure size 432x288 with 1 Axes>"
      ]
     },
     "metadata": {
      "needs_background": "light"
     },
     "output_type": "display_data"
    }
   ],
   "source": [
    "import mistree as mist #use pavia00\n",
    "import warnings\n",
    "warnings.filterwarnings('ignore') #should understand instead\n",
    "\n",
    "def sta(u):\n",
    "    u = (u - u.mean())/u.std()\n",
    "    return u\n",
    "\n",
    "x = sta(somemix.iloc[:,0].to_numpy())\n",
    "y = sta(somemix.iloc[:,1].to_numpy())\n",
    "mst = mist.GetMST(x=x, y=y)\n",
    "d, l, b, s = mst.get_stats()\n",
    "print(np.median(l)) #ratio of median edge length to 90th percentile edge length\n",
    "\n",
    "someothermix = mix_CMDs(['isochrones/cmd_synt.13000.Fe-1.0.dat', 'isochrones/cmd_synt.11000.Fe-1.0.dat', 'isochrones/cmd_synt.7000.Fe-1.0.dat', 'isochrones/cmd_synt.3000.Fe-2.3.dat'], [80,120,110,90])\n",
    "x = sta(someothermix.iloc[:,0].to_numpy())\n",
    "y = sta(someothermix.iloc[:,1].to_numpy())\n",
    "mst = mist.GetMST(x=x, y=y)\n",
    "d, l, b, s = mst.get_stats()\n",
    "print(np.median(l)) #ratio of median edge length to 90th percentile edge length\n",
    "\n",
    "plotCMD(someothermix)\n"
   ]
  },
  {
   "cell_type": "code",
   "execution_count": 34,
   "id": "45df4bab",
   "metadata": {},
   "outputs": [
    {
     "data": {
      "image/png": "[encoded data removed]",
      "text/plain": [
       "<Figure size 432x288 with 1 Axes>"
      ]
     },
     "metadata": {
      "needs_background": "light"
     },
     "output_type": "display_data"
    },
    {
     "data": {
      "image/png": "[encoded data removed]",
      "text/plain": [
       "<Figure size 432x288 with 1 Axes>"
      ]
     },
     "metadata": {
      "needs_background": "light"
     },
     "output_type": "display_data"
    },
    {
     "data": {
      "image/png": "[encoded data removed]",
      "text/plain": [
       "<Figure size 432x288 with 1 Axes>"
      ]
     },
     "metadata": {
      "needs_background": "light"
     },
     "output_type": "display_data"
    }
   ],
   "source": [
    "def mix_CMDs_proportional(CMD0, CMD1, alpha):\n",
    "    mixed_CMD = mix_CMDs([CMD0, CMD1], [int(np.round(50*alpha)), int(np.round((1-alpha)*50))])\n",
    "    return mixed_CMD\n",
    "\n",
    "plotCMD(mix_CMDs_proportional('isochrones/cmd_synt.13000.Fe-1.0.dat', 'isochrones/cmd_synt.3000.Fe-1.0.dat', 0.1))\n",
    "plt.show()\n",
    "plotCMD(mix_CMDs_proportional('isochrones/cmd_synt.13000.Fe-1.0.dat', 'isochrones/cmd_synt.3000.Fe-1.0.dat', 0.5))\n",
    "plt.show()\n",
    "plotCMD(mix_CMDs_proportional('isochrones/cmd_synt.13000.Fe-1.0.dat', 'isochrones/cmd_synt.3000.Fe-1.0.dat', 0.9))\n",
    "plt.show()\n"
   ]
  },
  {
   "cell_type": "code",
   "execution_count": 40,
   "id": "caf25112",
   "metadata": {
    "scrolled": false
   },
   "outputs": [
    {
     "name": "stdout",
     "output_type": "stream",
     "text": [
      "[[0.0244609  0.03138618 0.03992011 0.04895416 0.05900405 0.07572995\n",
      "  0.13132314 0.18499777 0.4905432 ]\n",
      " [0.02893878 0.03947824 0.04619868 0.04854853 0.05893883 0.07397141\n",
      "  0.08743396 0.11984012 0.16677133]\n",
      " [0.02625918 0.03541254 0.03971503 0.05356373 0.06540315 0.08019394\n",
      "  0.09388522 0.12641784 0.1497021 ]\n",
      " [0.01534535 0.022343   0.03730315 0.04232632 0.0534297  0.0684466\n",
      "  0.10945352 0.16462329 0.22215167]\n",
      " [0.01642749 0.0291467  0.04271059 0.05538488 0.06282501 0.0769061\n",
      "  0.09430527 0.12740068 0.19819803]\n",
      " [0.02744622 0.03261272 0.04186639 0.05635599 0.06493027 0.07454877\n",
      "  0.09224195 0.12294226 0.17069093]\n",
      " [0.01128526 0.03068584 0.03983812 0.05016497 0.05807851 0.07008771\n",
      "  0.08611502 0.12679583 0.21014499]\n",
      " [0.02646277 0.03038057 0.04117908 0.05335018 0.06384319 0.07351284\n",
      "  0.08237426 0.12714696 0.2129958 ]\n",
      " [0.02513644 0.03479137 0.04173665 0.04834393 0.05683745 0.06913956\n",
      "  0.09345592 0.13756166 0.22162239]\n",
      " [0.01884114 0.02661356 0.03948232 0.04614692 0.06180518 0.07613969\n",
      "  0.08917628 0.10485665 0.1607382 ]\n",
      " [0.01179628 0.0240681  0.02792324 0.03154685 0.0386459  0.05766285\n",
      "  0.08417526 0.10503417 0.13523971]]\n"
     ]
    },
    {
     "data": {
      "image/png": "[encoded data removed]",
      "text/plain": [
       "<Figure size 432x288 with 1 Axes>"
      ]
     },
     "metadata": {
      "needs_background": "light"
     },
     "output_type": "display_data"
    }
   ],
   "source": [
    "def MST_of_a_mix(CMD0, CMD1, alpha):\n",
    "    thismix = mix_CMDs_proportional(CMD0, CMD1, alpha)\n",
    "    mst = mist.GetMST(x=thismix.iloc[:,0].to_numpy(), y=thismix.iloc[:,1].to_numpy())\n",
    "    d, l, b, s = mst.get_stats()\n",
    "    lq = np.quantile(l, (1+np.arange(9))/10)\n",
    "    return(lq)\n",
    "\n",
    "MSTs = []\n",
    "for alpha in np.arange(11)/10:\n",
    "    MSTs.append(MST_of_a_mix('isochrones/cmd_synt.13000.Fe-2.3.dat', 'isochrones/cmd_synt.3000.Fe-1.0.dat', alpha))\n",
    "\n",
    "    \n",
    "print(np.array(MSTs))\n",
    "\n",
    "plt.imshow(np.log(np.array(MSTs)))\n",
    "plt.xlabel(\"Edge length quantile\")\n",
    "plt.ylabel(\"Fraction of stars from pop A\")\n",
    "plt.show()"
   ]
  },
  {
   "cell_type": "code",
   "execution_count": null,
   "id": "3fb2bc13",
   "metadata": {},
   "outputs": [],
   "source": []
  }
 ],
 "metadata": {
  "kernelspec": {
   "display_name": "Python 3 (ipykernel)",
   "language": "python",
   "name": "python3"
  },
  "language_info": {
   "codemirror_mode": {
    "name": "ipython",
    "version": 3
   },
   "file_extension": ".py",
   "mimetype": "text/x-python",
   "name": "python",
   "nbconvert_exporter": "python",
   "pygments_lexer": "ipython3",
   "version": "3.9.11"
  }
 },
 "nbformat": 4,
 "nbformat_minor": 5
}
