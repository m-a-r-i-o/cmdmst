{
 "cells": [
  {
   "cell_type": "code",
   "execution_count": 1,
   "id": "92934930",
   "metadata": {},
   "outputs": [],
   "source": [
    "import numpy as np\n",
    "import pandas as pd\n",
    "import matplotlib.pyplot as plt\n",
    "import kmapper as km\n",
    "from networkx import adjacency_matrix\n",
    "from sklearn.preprocessing import RobustScaler\n",
    "from sknetwork.topology import get_connected_components\n",
    "from kmapper.jupyter import display"
   ]
  },
  {
   "cell_type": "code",
   "execution_count": 2,
   "id": "84a050b2",
   "metadata": {},
   "outputs": [],
   "source": [
    "CMD = pd.read_csv('prova.csv')[[\"V1\", \"V2\"]]\n",
    "CMD.columns = [\"Mag\", \"Col\"]\n",
    "\n",
    "CMD_2pop = pd.read_csv('prova_2pop.csv')[[\"V1\", \"V2\"]]\n",
    "CMD_2pop.columns = [\"Mag\", \"Col\"]"
   ]
  },
  {
   "cell_type": "code",
   "execution_count": 3,
   "id": "64564245",
   "metadata": {},
   "outputs": [],
   "source": [
    "def plot_CMD(CMD):\n",
    "    plt.scatter(CMD[\"Col\"], -CMD[\"Mag\"], s = 1, color=\"#18A4A6\")\n",
    "    plt.show()\n",
    "    \n",
    "def kmapper_CMD(CMD):\n",
    "    mapper = km.KeplerMapper(verbose=3)\n",
    "    data = CMD.to_numpy()\n",
    "    projected_data = mapper.fit_transform(data, projection=[0,1], scaler = RobustScaler()) # magnitude axis\n",
    "    cover = km.Cover(n_cubes=20)\n",
    "    graph = mapper.map(projected_data, data, cover=cover)\n",
    "    _ = mapper.visualize(graph, path_html=\"keplermapper_output.html\",\n",
    "                 title=\"CMD\")\n",
    "    display(\"keplermapper_output.html\")\n",
    "    return graph"
   ]
  },
  {
   "cell_type": "code",
   "execution_count": 4,
   "id": "0af7ba6e",
   "metadata": {
    "scrolled": false
   },
   "outputs": [
    {
     "data": {
      "image/png": "[encoded data removed]",
      "text/plain": [
       "<Figure size 640x480 with 1 Axes>"
      ]
     },
     "metadata": {},
     "output_type": "display_data"
    },
    {
     "name": "stdout",
     "output_type": "stream",
     "text": [
      "KeplerMapper(verbose=3)\n",
      "..Composing projection pipeline of length 1:\n",
      "\tProjections: [0, 1]\n",
      "\tDistance matrices: False\n",
      "\tScalers: RobustScaler()\n",
      "..Projecting on data shaped (10000, 2)\n",
      "\n",
      "..Projecting data using: [0, 1]\n",
      "\n",
      "..Scaling with: RobustScaler()\n",
      "\n",
      "Mapping on data shaped (10000, 2) using lens shaped (10000, 2)\n",
      "\n",
      "Minimal points in hypercube before clustering: 3\n",
      "Creating 400 hypercubes.\n",
      "Cube_0 is empty.\n",
      "\n",
      "Cube_1 is empty.\n",
      "\n",
      "Cube_2 is empty.\n",
      "\n",
      "   > Found 1 clusters in hypercube 3.\n",
      "   > Found 1 clusters in hypercube 4.\n",
      "Cube_5 is empty.\n",
      "\n",
      "   > Found 1 clusters in hypercube 6.\n",
      "   > Found 1 clusters in hypercube 7.\n",
      "   > Found 1 clusters in hypercube 8.\n",
      "Cube_9 is empty.\n",
      "\n",
      "   > Found 1 clusters in hypercube 10.\n",
      "   > Found 1 clusters in hypercube 11.\n",
      "   > Found 1 clusters in hypercube 12.\n",
      "Cube_13 is empty.\n",
      "\n",
      "   > Found 1 clusters in hypercube 14.\n",
      "   > Found 1 clusters in hypercube 15.\n",
      "   > Found 1 clusters in hypercube 16.\n",
      "   > Found 1 clusters in hypercube 17.\n",
      "   > Found 1 clusters in hypercube 18.\n",
      "   > Found 1 clusters in hypercube 19.\n",
      "   > Found 1 clusters in hypercube 20.\n",
      "   > Found 1 clusters in hypercube 21.\n",
      "   > Found 1 clusters in hypercube 22.\n",
      "Cube_23 is empty.\n",
      "\n",
      "Cube_24 is empty.\n",
      "\n",
      "   > Found 1 clusters in hypercube 25.\n",
      "   > Found 1 clusters in hypercube 26.\n",
      "   > Found 1 clusters in hypercube 27.\n",
      "Cube_28 is empty.\n",
      "\n",
      "Cube_29 is empty.\n",
      "\n",
      "Cube_30 is empty.\n",
      "\n",
      "Cube_31 is empty.\n",
      "\n",
      "   > Found 1 clusters in hypercube 32.\n",
      "   > Found 1 clusters in hypercube 33.\n",
      "   > Found 1 clusters in hypercube 34.\n",
      "   > Found 1 clusters in hypercube 35.\n",
      "   > Found 1 clusters in hypercube 36.\n",
      "   > Found 1 clusters in hypercube 37.\n",
      "   > Found 1 clusters in hypercube 38.\n",
      "Cube_39 is empty.\n",
      "\n",
      "   > Found 1 clusters in hypercube 40.\n",
      "   > Found 1 clusters in hypercube 41.\n",
      "   > Found 1 clusters in hypercube 42.\n",
      "   > Found 1 clusters in hypercube 43.\n",
      "   > Found 1 clusters in hypercube 44.\n",
      "   > Found 1 clusters in hypercube 45.\n",
      "   > Found 1 clusters in hypercube 46.\n",
      "Cube_47 is empty.\n",
      "\n",
      "   > Found 1 clusters in hypercube 48.\n",
      "   > Found 1 clusters in hypercube 49.\n",
      "   > Found 1 clusters in hypercube 50.\n",
      "   > Found 1 clusters in hypercube 51.\n",
      "   > Found 1 clusters in hypercube 52.\n",
      "   > Found 1 clusters in hypercube 53.\n",
      "   > Found 1 clusters in hypercube 54.\n",
      "   > Found 1 clusters in hypercube 55.\n",
      "   > Found 1 clusters in hypercube 56.\n",
      "Cube_57 is empty.\n",
      "\n",
      "   > Found 1 clusters in hypercube 58.\n",
      "   > Found 1 clusters in hypercube 59.\n",
      "Cube_60 is empty.\n",
      "\n",
      "   > Found 1 clusters in hypercube 61.\n",
      "   > Found 1 clusters in hypercube 62.\n",
      "   > Found 1 clusters in hypercube 63.\n",
      "   > Found 1 clusters in hypercube 64.\n",
      "Cube_65 is empty.\n",
      "\n",
      "Cube_66 is empty.\n",
      "\n",
      "   > Found 1 clusters in hypercube 67.\n",
      "   > Found 1 clusters in hypercube 68.\n",
      "   > Found 1 clusters in hypercube 69.\n",
      "   > Found 1 clusters in hypercube 70.\n",
      "   > Found 1 clusters in hypercube 71.\n",
      "   > Found 1 clusters in hypercube 72.\n",
      "   > Found 1 clusters in hypercube 73.\n",
      "   > Found 1 clusters in hypercube 74.\n",
      "   > Found 1 clusters in hypercube 75.\n",
      "   > Found 1 clusters in hypercube 76.\n",
      "   > Found 1 clusters in hypercube 77.\n",
      "   > Found 1 clusters in hypercube 78.\n",
      "   > Found 1 clusters in hypercube 79.\n",
      "   > Found 1 clusters in hypercube 80.\n",
      "   > Found 1 clusters in hypercube 81.\n",
      "   > Found 1 clusters in hypercube 82.\n",
      "   > Found 1 clusters in hypercube 83.\n",
      "   > Found 1 clusters in hypercube 84.\n",
      "   > Found 1 clusters in hypercube 85.\n",
      "   > Found 1 clusters in hypercube 86.\n",
      "   > Found 1 clusters in hypercube 87.\n",
      "   > Found 1 clusters in hypercube 88.\n",
      "   > Found 1 clusters in hypercube 89.\n",
      "   > Found 1 clusters in hypercube 90.\n",
      "   > Found 1 clusters in hypercube 91.\n",
      "   > Found 1 clusters in hypercube 92.\n",
      "   > Found 1 clusters in hypercube 93.\n",
      "   > Found 1 clusters in hypercube 94.\n",
      "   > Found 1 clusters in hypercube 95.\n",
      "   > Found 1 clusters in hypercube 96.\n",
      "Cube_97 is empty.\n",
      "\n",
      "   > Found 1 clusters in hypercube 98.\n",
      "   > Found 1 clusters in hypercube 99.\n",
      "   > Found 1 clusters in hypercube 100.\n",
      "   > Found 1 clusters in hypercube 101.\n",
      "   > Found 1 clusters in hypercube 102.\n",
      "   > Found 1 clusters in hypercube 103.\n",
      "   > Found 1 clusters in hypercube 104.\n",
      "Cube_105 is empty.\n",
      "\n",
      "Cube_106 is empty.\n",
      "\n",
      "   > Found 1 clusters in hypercube 107.\n",
      "   > Found 1 clusters in hypercube 108.\n",
      "   > Found 1 clusters in hypercube 109.\n",
      "   > Found 1 clusters in hypercube 110.\n",
      "   > Found 1 clusters in hypercube 111.\n",
      "   > Found 1 clusters in hypercube 112.\n",
      "   > Found 1 clusters in hypercube 113.\n",
      "   > Found 1 clusters in hypercube 114.\n",
      "Cube_115 is empty.\n",
      "\n",
      "\n",
      "Created 249 edges and 94 nodes in 0:00:01.575531.\n",
      "Wrote visualization to: keplermapper_output.html\n"
     ]
    },
    {
     "data": {
      "text/html": [
       "<style>\n",
       "        .container { width:100% !important; }\n",
       "        .output_scroll {height: 800px !important;}\n",
       "        </style>"
      ],
      "text/plain": [
       "<IPython.core.display.HTML object>"
      ]
     },
     "metadata": {},
     "output_type": "display_data"
    },
    {
     "name": "stderr",
     "output_type": "stream",
     "text": [
      "/opt/anaconda3/envs/persistent_homology/lib/python3.11/site-packages/IPython/core/display.py:431: UserWarning: Consider using IPython.display.IFrame instead\n",
      "  warnings.warn(\"Consider using IPython.display.IFrame instead\")\n"
     ]
    },
    {
     "data": {
      "text/html": [
       "<iframe src=keplermapper_output.html width=100%% height=800 frameBorder=\"0\"></iframe>"
      ],
      "text/plain": [
       "<IPython.core.display.HTML object>"
      ]
     },
     "metadata": {},
     "output_type": "display_data"
    }
   ],
   "source": [
    "plot_CMD(CMD)\n",
    "graph_1pop = kmapper_CMD(CMD)"
   ]
  },
  {
   "cell_type": "code",
   "execution_count": 5,
   "id": "e03943f5",
   "metadata": {
    "scrolled": false
   },
   "outputs": [
    {
     "data": {
      "image/png": "[encoded data removed]",
      "text/plain": [
       "<Figure size 640x480 with 1 Axes>"
      ]
     },
     "metadata": {},
     "output_type": "display_data"
    },
    {
     "name": "stdout",
     "output_type": "stream",
     "text": [
      "KeplerMapper(verbose=3)\n",
      "..Composing projection pipeline of length 1:\n",
      "\tProjections: [0, 1]\n",
      "\tDistance matrices: False\n",
      "\tScalers: RobustScaler()\n",
      "..Projecting on data shaped (10000, 2)\n",
      "\n",
      "..Projecting data using: [0, 1]\n",
      "\n",
      "..Scaling with: RobustScaler()\n",
      "\n",
      "Mapping on data shaped (10000, 2) using lens shaped (10000, 2)\n",
      "\n",
      "Minimal points in hypercube before clustering: 3\n",
      "Creating 400 hypercubes.\n",
      "   > Found 1 clusters in hypercube 0.\n",
      "   > Found 1 clusters in hypercube 1.\n",
      "Cube_2 is empty.\n",
      "\n",
      "Cube_3 is empty.\n",
      "\n",
      "Cube_4 is empty.\n",
      "\n",
      "Cube_5 is empty.\n",
      "\n",
      "Cube_6 is empty.\n",
      "\n",
      "Cube_7 is empty.\n",
      "\n",
      "Cube_8 is empty.\n",
      "\n",
      "Cube_9 is empty.\n",
      "\n",
      "Cube_10 is empty.\n",
      "\n",
      "   > Found 0 clusters in hypercube 11.\n",
      "Cube_12 is empty.\n",
      "\n",
      "Cube_13 is empty.\n",
      "\n",
      "Cube_14 is empty.\n",
      "\n",
      "Cube_15 is empty.\n",
      "\n",
      "Cube_16 is empty.\n",
      "\n",
      "Cube_17 is empty.\n",
      "\n",
      "   > Found 1 clusters in hypercube 18.\n",
      "   > Found 1 clusters in hypercube 19.\n",
      "   > Found 1 clusters in hypercube 20.\n",
      "   > Found 1 clusters in hypercube 21.\n",
      "Cube_22 is empty.\n",
      "\n",
      "   > Found 1 clusters in hypercube 23.\n",
      "   > Found 1 clusters in hypercube 24.\n",
      "   > Found 1 clusters in hypercube 25.\n",
      "   > Found 1 clusters in hypercube 26.\n",
      "Cube_27 is empty.\n",
      "\n",
      "Cube_28 is empty.\n",
      "\n",
      "   > Found 1 clusters in hypercube 29.\n",
      "   > Found 1 clusters in hypercube 30.\n",
      "   > Found 1 clusters in hypercube 31.\n",
      "   > Found 1 clusters in hypercube 32.\n",
      "   > Found 1 clusters in hypercube 33.\n",
      "   > Found 1 clusters in hypercube 34.\n",
      "   > Found 1 clusters in hypercube 35.\n",
      "   > Found 1 clusters in hypercube 36.\n",
      "Cube_37 is empty.\n",
      "\n",
      "Cube_38 is empty.\n",
      "\n",
      "Cube_39 is empty.\n",
      "\n",
      "Cube_40 is empty.\n",
      "\n",
      "   > Found 1 clusters in hypercube 41.\n",
      "   > Found 1 clusters in hypercube 42.\n",
      "   > Found 1 clusters in hypercube 43.\n",
      "   > Found 1 clusters in hypercube 44.\n",
      "   > Found 1 clusters in hypercube 45.\n",
      "   > Found 1 clusters in hypercube 46.\n",
      "   > Found 1 clusters in hypercube 47.\n",
      "   > Found 1 clusters in hypercube 48.\n",
      "Cube_49 is empty.\n",
      "\n",
      "   > Found 1 clusters in hypercube 50.\n",
      "   > Found 1 clusters in hypercube 51.\n",
      "   > Found 1 clusters in hypercube 52.\n",
      "   > Found 1 clusters in hypercube 53.\n",
      "   > Found 1 clusters in hypercube 54.\n",
      "Cube_55 is empty.\n",
      "\n",
      "   > Found 1 clusters in hypercube 56.\n",
      "   > Found 1 clusters in hypercube 57.\n",
      "   > Found 1 clusters in hypercube 58.\n",
      "Cube_59 is empty.\n",
      "\n",
      "Cube_60 is empty.\n",
      "\n",
      "   > Found 1 clusters in hypercube 61.\n",
      "   > Found 0 clusters in hypercube 62.\n",
      "   > Found 1 clusters in hypercube 63.\n",
      "   > Found 1 clusters in hypercube 64.\n",
      "   > Found 1 clusters in hypercube 65.\n",
      "   > Found 1 clusters in hypercube 66.\n",
      "   > Found 1 clusters in hypercube 67.\n",
      "   > Found 1 clusters in hypercube 68.\n",
      "   > Found 1 clusters in hypercube 69.\n",
      "   > Found 1 clusters in hypercube 70.\n",
      "   > Found 1 clusters in hypercube 71.\n",
      "   > Found 1 clusters in hypercube 72.\n",
      "   > Found 1 clusters in hypercube 73.\n",
      "   > Found 1 clusters in hypercube 74.\n",
      "   > Found 1 clusters in hypercube 75.\n",
      "   > Found 1 clusters in hypercube 76.\n",
      "   > Found 1 clusters in hypercube 77.\n",
      "   > Found 1 clusters in hypercube 78.\n",
      "   > Found 1 clusters in hypercube 79.\n",
      "   > Found 1 clusters in hypercube 80.\n",
      "Cube_81 is empty.\n",
      "\n",
      "   > Found 1 clusters in hypercube 82.\n",
      "   > Found 1 clusters in hypercube 83.\n",
      "   > Found 1 clusters in hypercube 84.\n",
      "   > Found 1 clusters in hypercube 85.\n",
      "   > Found 1 clusters in hypercube 86.\n",
      "   > Found 1 clusters in hypercube 87.\n",
      "   > Found 1 clusters in hypercube 88.\n",
      "   > Found 1 clusters in hypercube 89.\n",
      "   > Found 1 clusters in hypercube 90.\n",
      "   > Found 1 clusters in hypercube 91.\n",
      "   > Found 1 clusters in hypercube 92.\n",
      "   > Found 1 clusters in hypercube 93.\n",
      "   > Found 1 clusters in hypercube 94.\n",
      "   > Found 1 clusters in hypercube 95.\n",
      "   > Found 1 clusters in hypercube 96.\n",
      "   > Found 1 clusters in hypercube 97.\n",
      "   > Found 1 clusters in hypercube 98.\n",
      "   > Found 1 clusters in hypercube 99.\n",
      "   > Found 1 clusters in hypercube 100.\n",
      "   > Found 1 clusters in hypercube 101.\n",
      "   > Found 1 clusters in hypercube 102.\n",
      "   > Found 1 clusters in hypercube 103.\n",
      "   > Found 1 clusters in hypercube 104.\n",
      "   > Found 1 clusters in hypercube 105.\n",
      "   > Found 1 clusters in hypercube 106.\n",
      "   > Found 1 clusters in hypercube 107.\n",
      "   > Found 1 clusters in hypercube 108.\n",
      "   > Found 1 clusters in hypercube 109.\n",
      "   > Found 1 clusters in hypercube 110.\n",
      "   > Found 1 clusters in hypercube 111.\n",
      "   > Found 1 clusters in hypercube 112.\n",
      "   > Found 1 clusters in hypercube 113.\n",
      "   > Found 1 clusters in hypercube 114.\n",
      "   > Found 1 clusters in hypercube 115.\n",
      "Cube_116 is empty.\n",
      "\n",
      "   > Found 1 clusters in hypercube 117.\n",
      "   > Found 1 clusters in hypercube 118.\n",
      "   > Found 1 clusters in hypercube 119.\n",
      "   > Found 1 clusters in hypercube 120.\n",
      "   > Found 1 clusters in hypercube 121.\n",
      "   > Found 1 clusters in hypercube 122.\n",
      "   > Found 1 clusters in hypercube 123.\n",
      "   > Found 1 clusters in hypercube 124.\n",
      "   > Found 1 clusters in hypercube 125.\n",
      "   > Found 1 clusters in hypercube 126.\n",
      "   > Found 1 clusters in hypercube 127.\n",
      "   > Found 1 clusters in hypercube 128.\n",
      "   > Found 1 clusters in hypercube 129.\n",
      "   > Found 1 clusters in hypercube 130.\n",
      "   > Found 1 clusters in hypercube 131.\n",
      "   > Found 1 clusters in hypercube 132.\n",
      "   > Found 1 clusters in hypercube 133.\n",
      "   > Found 1 clusters in hypercube 134.\n",
      "Cube_135 is empty.\n",
      "\n",
      "\n",
      "Created 286 edges and 105 nodes in 0:00:01.431528.\n",
      "Wrote visualization to: keplermapper_output.html\n"
     ]
    },
    {
     "data": {
      "text/html": [
       "<style>\n",
       "        .container { width:100% !important; }\n",
       "        .output_scroll {height: 800px !important;}\n",
       "        </style>"
      ],
      "text/plain": [
       "<IPython.core.display.HTML object>"
      ]
     },
     "metadata": {},
     "output_type": "display_data"
    },
    {
     "name": "stderr",
     "output_type": "stream",
     "text": [
      "/opt/anaconda3/envs/persistent_homology/lib/python3.11/site-packages/IPython/core/display.py:431: UserWarning: Consider using IPython.display.IFrame instead\n",
      "  warnings.warn(\"Consider using IPython.display.IFrame instead\")\n"
     ]
    },
    {
     "data": {
      "text/html": [
       "<iframe src=keplermapper_output.html width=100%% height=800 frameBorder=\"0\"></iframe>"
      ],
      "text/plain": [
       "<IPython.core.display.HTML object>"
      ]
     },
     "metadata": {},
     "output_type": "display_data"
    }
   ],
   "source": [
    "plot_CMD(CMD_2pop)\n",
    "graph_2pop = kmapper_CMD(CMD_2pop)"
   ]
  },
  {
   "cell_type": "markdown",
   "id": "b5b114b1",
   "metadata": {},
   "source": [
    "### OK this is all very cooooool. But I want to extract meaningful features out of this graph and or visualize meaningful properties of the data, like color and magnitude, on this graph. "
   ]
  },
  {
   "cell_type": "code",
   "execution_count": 6,
   "id": "417195a1",
   "metadata": {},
   "outputs": [
    {
     "name": "stderr",
     "output_type": "stream",
     "text": [
      "/var/folders/8w/66mbmptd4ws3j45r5hp0c6w80000gn/T/ipykernel_3675/1765535880.py:2: FutureWarning: adjacency_matrix will return a scipy.sparse array instead of a matrix in Networkx 3.0.\n",
      "  am = adjacency_matrix(nx_graph_1pop)\n"
     ]
    }
   ],
   "source": [
    "nx_graph_1pop = km.adapter.to_nx(graph_1pop)\n",
    "am = adjacency_matrix(nx_graph_1pop)"
   ]
  },
  {
   "cell_type": "code",
   "execution_count": 7,
   "id": "4c17feca",
   "metadata": {},
   "outputs": [
    {
     "data": {
      "text/plain": [
       "94"
      ]
     },
     "execution_count": 7,
     "metadata": {},
     "output_type": "execute_result"
    }
   ],
   "source": [
    "len(graph_1pop['nodes'])"
   ]
  },
  {
   "cell_type": "code",
   "execution_count": 8,
   "id": "706b669c",
   "metadata": {},
   "outputs": [
    {
     "data": {
      "text/plain": [
       "array([0, 0, 0, 0, 0, 0, 0, 0, 0, 0, 0, 0, 0, 0, 0, 0, 0, 0, 0, 0, 0, 0,\n",
       "       0, 1, 1, 1, 1, 0, 0, 0, 1, 1, 1, 1, 0, 0, 0, 1, 1, 1, 0, 0, 0, 1,\n",
       "       1, 0, 0, 0, 1, 0, 0, 0, 0, 0, 0, 0, 0, 0, 0, 0, 0, 0, 0, 0, 0, 0,\n",
       "       0, 0, 0, 0, 0, 0, 0, 0, 0, 0, 0, 0, 0, 0, 0, 0, 0, 0, 0, 0, 0, 0,\n",
       "       0, 0, 0, 0, 0, 0], dtype=int32)"
      ]
     },
     "execution_count": 8,
     "metadata": {},
     "output_type": "execute_result"
    }
   ],
   "source": [
    "labels = get_connected_components(am)\n",
    "labels"
   ]
  },
  {
   "cell_type": "code",
   "execution_count": 9,
   "id": "2b0a710d",
   "metadata": {},
   "outputs": [
    {
     "data": {
      "image/png": "[encoded data removed]",
      "text/plain": [
       "<Figure size 640x480 with 1 Axes>"
      ]
     },
     "metadata": {},
     "output_type": "display_data"
    }
   ],
   "source": [
    "for i in range(labels.max()+1):\n",
    "    cc = np.unique(np.concatenate([np.array(list(graph_1pop['nodes'].values())[k])\n",
    "                          for k in np.arange(len(labels))[labels==i]], axis=0))\n",
    "    plt.scatter(CMD[\"Col\"][cc], -CMD[\"Mag\"][cc], s = 1)\n",
    "\n",
    "plt.show()"
   ]
  },
  {
   "cell_type": "code",
   "execution_count": 10,
   "id": "65ca06a4",
   "metadata": {},
   "outputs": [
    {
     "name": "stderr",
     "output_type": "stream",
     "text": [
      "/var/folders/8w/66mbmptd4ws3j45r5hp0c6w80000gn/T/ipykernel_3675/4277755029.py:2: FutureWarning: adjacency_matrix will return a scipy.sparse array instead of a matrix in Networkx 3.0.\n",
      "  am_2pop = adjacency_matrix(nx_graph_2pop)\n"
     ]
    },
    {
     "data": {
      "text/plain": [
       "array([0, 0, 1, 1, 1, 1, 1, 1, 1, 1, 1, 1, 1, 1, 1, 1, 1, 1, 1, 1, 1, 1,\n",
       "       1, 2, 2, 2, 1, 1, 1, 1, 1, 2, 2, 2, 1, 1, 1, 1, 2, 2, 2, 1, 1, 1,\n",
       "       1, 2, 2, 1, 1, 1, 1, 1, 1, 1, 1, 1, 1, 1, 1, 1, 1, 1, 1, 1, 1, 1,\n",
       "       1, 1, 1, 1, 1, 1, 1, 1, 1, 1, 1, 1, 1, 1, 1, 1, 1, 1, 1, 1, 1, 1,\n",
       "       1, 1, 1, 1, 1, 1, 1, 1, 1, 1, 1, 1, 1, 1, 1, 1, 1], dtype=int32)"
      ]
     },
     "execution_count": 10,
     "metadata": {},
     "output_type": "execute_result"
    }
   ],
   "source": [
    "nx_graph_2pop = km.adapter.to_nx(graph_2pop)\n",
    "am_2pop = adjacency_matrix(nx_graph_2pop)\n",
    "\n",
    "labels_2pop = get_connected_components(am_2pop)\n",
    "labels_2pop"
   ]
  },
  {
   "cell_type": "code",
   "execution_count": 11,
   "id": "c207de74",
   "metadata": {},
   "outputs": [
    {
     "data": {
      "image/png": "[encoded data removed]",
      "text/plain": [
       "<Figure size 640x480 with 1 Axes>"
      ]
     },
     "metadata": {},
     "output_type": "display_data"
    }
   ],
   "source": [
    "for i in range(labels_2pop.max()+1):\n",
    "    cc = np.unique(np.concatenate([np.array(list(graph_2pop['nodes'].values())[k])\n",
    "                          for k in np.arange(len(labels_2pop))[labels_2pop==i]], axis=0))\n",
    "    plt.scatter(CMD_2pop[\"Col\"][cc], -CMD_2pop[\"Mag\"][cc], s = 1)\n",
    "\n",
    "plt.show()"
   ]
  },
  {
   "cell_type": "code",
   "execution_count": null,
   "id": "09175145",
   "metadata": {},
   "outputs": [],
   "source": []
  },
  {
   "cell_type": "code",
   "execution_count": null,
   "id": "55cea2b2",
   "metadata": {},
   "outputs": [],
   "source": []
  }
 ],
 "metadata": {
  "kernelspec": {
   "display_name": "Python 3 (ipykernel)",
   "language": "python",
   "name": "python3"
  },
  "language_info": {
   "codemirror_mode": {
    "name": "ipython",
    "version": 3
   },
   "file_extension": ".py",
   "mimetype": "text/x-python",
   "name": "python",
   "nbconvert_exporter": "python",
   "pygments_lexer": "ipython3",
   "version": "3.11.0"
  }
 },
 "nbformat": 4,
 "nbformat_minor": 5
}
